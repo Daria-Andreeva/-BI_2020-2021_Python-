{
 "cells": [
  {
   "cell_type": "markdown",
   "id": "nasty-bottom",
   "metadata": {},
   "source": [
    "# Задание 1\n",
    "\n",
    "Замерьте время вычисления чисел от 0 до 1 из равномерного распределения с помощью модулей random и numpy, изобразите зависимость времени вычисления от количества вычисляемых чисел для них. Другими словами - по x идёт то, сколько чисел за прогон вы взяли от 0 до 1, а по y - время, которое это заняло для random и numpy"
   ]
  },
  {
   "cell_type": "code",
   "execution_count": 2,
   "id": "constitutional-graphics",
   "metadata": {},
   "outputs": [],
   "source": [
    "import numpy as np\n",
    "import random\n",
    "import time\n",
    "import plotly.graph_objs as go"
   ]
  },
  {
   "cell_type": "markdown",
   "id": "north-bolivia",
   "metadata": {},
   "source": [
    "Инициализация генератора случайных чисел (для воспроизводимости результатов)"
   ]
  },
  {
   "cell_type": "code",
   "execution_count": 3,
   "id": "adaptive-choice",
   "metadata": {},
   "outputs": [],
   "source": [
    "seed = 42\n",
    "\n",
    "random.seed(seed)\n",
    "np.random.seed(seed)"
   ]
  },
  {
   "cell_type": "markdown",
   "id": "recovered-question",
   "metadata": {},
   "source": [
    "Для равномерного распределения в модуле random используется метод random.uniform(a, b), где a, b - границы интервала распределения.\n",
    "Возвращает одно число.\n",
    "\n",
    "В модуле numpy используется метод numpy.random.uniform(low=0.0, high=1.0, size=None), где low, high - границы интервала распределения.\n",
    "Возвращает скаляр или массив заданного размера."
   ]
  },
  {
   "cell_type": "code",
   "execution_count": 4,
   "id": "rising-annex",
   "metadata": {},
   "outputs": [],
   "source": [
    "n_iter = [10 ** i for i in range(10)]"
   ]
  },
  {
   "cell_type": "markdown",
   "id": "regional-least",
   "metadata": {},
   "source": [
    "Сначала проведем эксперимент для библиотеки random"
   ]
  },
  {
   "cell_type": "code",
   "execution_count": 5,
   "id": "upset-headquarters",
   "metadata": {},
   "outputs": [
    {
     "name": "stdout",
     "output_type": "stream",
     "text": [
      "1\n",
      "10\n",
      "100\n",
      "1000\n",
      "10000\n",
      "100000\n",
      "1000000\n",
      "10000000\n",
      "100000000\n",
      "1000000000\n"
     ]
    }
   ],
   "source": [
    "time_random = []\n",
    "\n",
    "for n in n_iter:\n",
    "    start_time = time.time()\n",
    "    for _ in range(n):\n",
    "        random.uniform(0, 1)\n",
    "    end_time = time.time()\n",
    "    print(n)\n",
    "    time_random.append(end_time - start_time) # время работы в секундах"
   ]
  },
  {
   "cell_type": "markdown",
   "id": "funky-wallet",
   "metadata": {},
   "source": [
    "Далее для библиотеки numpy"
   ]
  },
  {
   "cell_type": "code",
   "execution_count": null,
   "id": "elegant-karma",
   "metadata": {},
   "outputs": [
    {
     "name": "stdout",
     "output_type": "stream",
     "text": [
      "1\n",
      "10\n",
      "100\n",
      "1000\n",
      "10000\n",
      "100000\n",
      "1000000\n",
      "10000000\n",
      "100000000\n"
     ]
    }
   ],
   "source": [
    "time_numpy = []\n",
    "\n",
    "for n in n_iter:\n",
    "    start_time = time.time()\n",
    "    np.random.uniform(size=n)\n",
    "    end_time = time.time()\n",
    "    print(n)\n",
    "    time_numpy.append(end_time - start_time) # время работы в секундах"
   ]
  },
  {
   "cell_type": "markdown",
   "id": "skilled-monthly",
   "metadata": {},
   "source": [
    "Построим график зависимости"
   ]
  },
  {
   "cell_type": "code",
   "execution_count": 1,
   "id": "crazy-audience",
   "metadata": {},
   "outputs": [
    {
     "ename": "NameError",
     "evalue": "name 'go' is not defined",
     "output_type": "error",
     "traceback": [
      "\u001b[0;31m---------------------------------------------------------------------------\u001b[0m",
      "\u001b[0;31mNameError\u001b[0m                                 Traceback (most recent call last)",
      "\u001b[0;32m<ipython-input-1-ee63d6431a3e>\u001b[0m in \u001b[0;36m<module>\u001b[0;34m\u001b[0m\n\u001b[0;32m----> 1\u001b[0;31m \u001b[0mfig\u001b[0m \u001b[0;34m=\u001b[0m \u001b[0mgo\u001b[0m\u001b[0;34m.\u001b[0m\u001b[0mFigure\u001b[0m\u001b[0;34m(\u001b[0m\u001b[0;34m)\u001b[0m\u001b[0;34m\u001b[0m\u001b[0;34m\u001b[0m\u001b[0m\n\u001b[0m\u001b[1;32m      2\u001b[0m \u001b[0;34m\u001b[0m\u001b[0m\n\u001b[1;32m      3\u001b[0m fig.add_scatter(\n\u001b[1;32m      4\u001b[0m     \u001b[0mx\u001b[0m\u001b[0;34m=\u001b[0m\u001b[0mn_iter\u001b[0m\u001b[0;34m,\u001b[0m\u001b[0;34m\u001b[0m\u001b[0;34m\u001b[0m\u001b[0m\n\u001b[1;32m      5\u001b[0m     \u001b[0my\u001b[0m\u001b[0;34m=\u001b[0m\u001b[0mtime_random\u001b[0m\u001b[0;34m,\u001b[0m\u001b[0;34m\u001b[0m\u001b[0;34m\u001b[0m\u001b[0m\n",
      "\u001b[0;31mNameError\u001b[0m: name 'go' is not defined"
     ]
    }
   ],
   "source": [
    "fig = go.Figure()\n",
    "\n",
    "fig.add_scatter(\n",
    "    x=n_iter,\n",
    "    y=time_random,\n",
    "    mode=\"lines\",\n",
    "    name=\"Модуль random\",\n",
    ")\n",
    "fig.add_scatter(\n",
    "    x=n_iter,\n",
    "    y=time_numpy,\n",
    "    mode=\"lines\",\n",
    "    name=\"Модуль numpy\",\n",
    ")\n",
    "\n",
    "fig.update_layout(\n",
    "    title=\"Зависимость времени вычисления рандомных чисел от их количества\",\n",
    "    xaxis_title=\"Количество чисел для вычисления (n)\",\n",
    "    yaxis_title=\"Время вычисления n чисел\",\n",
    ")\n",
    "\n",
    "fig.write_html('task_1.html')\n"
   ]
  },
  {
   "cell_type": "code",
   "execution_count": null,
   "id": "lyric-democracy",
   "metadata": {},
   "outputs": [],
   "source": [
    "Спасибо за внимание! \t(◕‿◕)♡"
   ]
  }
 ],
 "metadata": {
  "kernelspec": {
   "display_name": "Python 3",
   "language": "python",
   "name": "python3"
  },
  "language_info": {
   "codemirror_mode": {
    "name": "ipython",
    "version": 3
   },
   "file_extension": ".py",
   "mimetype": "text/x-python",
   "name": "python",
   "nbconvert_exporter": "python",
   "pygments_lexer": "ipython3",
   "version": "3.8.5"
  }
 },
 "nbformat": 4,
 "nbformat_minor": 5
}
