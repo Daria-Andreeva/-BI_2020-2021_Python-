{
 "cells": [
  {
   "cell_type": "code",
   "execution_count": 31,
   "id": "sacred-length",
   "metadata": {},
   "outputs": [],
   "source": [
    "import random\n",
    "import time\n",
    "import plotly.graph_objs as go"
   ]
  },
  {
   "cell_type": "markdown",
   "id": "everyday-harvest",
   "metadata": {},
   "source": [
    "Из пакета random возьмем функцию shuffle, остальные функции реализуем вручную.\n",
    "\n",
    "На ввод принимается список чисел, разделенных пробелом (zB: 4 3 2 1)"
   ]
  },
  {
   "cell_type": "code",
   "execution_count": 32,
   "id": "double-headset",
   "metadata": {},
   "outputs": [
    {
     "name": "stdout",
     "output_type": "stream",
     "text": [
      "4 3 2 1\n"
     ]
    }
   ],
   "source": [
    "mylist = [int(x) for x in input().split()]\n",
    "\n",
    "def sorted_or_not(mylist):\n",
    "    for i in range(len(mylist) - 1):\n",
    "        if mylist[i] > mylist[i + 1]:\n",
    "            return False\n",
    "    return True\n",
    "\n",
    "def monkey(mylist):\n",
    "    while (sorted_or_not(mylist) == False):\n",
    "        shuffle(mylist)\n",
    "    \n",
    "\n",
    "monkey(mylist)\n"
   ]
  },
  {
   "cell_type": "markdown",
   "id": "timely-dutch",
   "metadata": {},
   "source": [
    "Проверим работу функций."
   ]
  },
  {
   "cell_type": "code",
   "execution_count": null,
   "id": "introductory-camcorder",
   "metadata": {},
   "outputs": [],
   "source": [
    "#print('Sorted list :')\n",
    "#for i in range(len(mylist)):\n",
    "   # print (mylist[i])"
   ]
  },
  {
   "cell_type": "markdown",
   "id": "focal-blink",
   "metadata": {},
   "source": [
    "Проведем эксперимент."
   ]
  },
  {
   "cell_type": "code",
   "execution_count": 33,
   "id": "wireless-frame",
   "metadata": {},
   "outputs": [
    {
     "name": "stdout",
     "output_type": "stream",
     "text": [
      "1\n",
      "10\n",
      "100\n",
      "1000\n",
      "10000\n",
      "100000\n",
      "1000000\n",
      "10000000\n",
      "100000000\n",
      "1000000000\n"
     ]
    }
   ],
   "source": [
    "n_iter = [10 ** i for i in range(10)]\n",
    "\n",
    "time_monkey = []\n",
    "\n",
    "for n in n_iter:\n",
    "    start_time = time.time()\n",
    "    for _ in range(n):\n",
    "        random.uniform(0, 1)\n",
    "    end_time = time.time()\n",
    "    print(n)\n",
    "    time_monkey.append(end_time - start_time) # время работы в секундах"
   ]
  },
  {
   "cell_type": "markdown",
   "id": "facial-austria",
   "metadata": {},
   "source": [
    "Построим график."
   ]
  },
  {
   "cell_type": "code",
   "execution_count": 35,
   "id": "limited-heaven",
   "metadata": {},
   "outputs": [],
   "source": [
    "fig = go.Figure()\n",
    "\n",
    "fig.add_scatter(\n",
    "    x=n_iter,\n",
    "    y=time_monkey,\n",
    "    mode=\"lines\",\n",
    "    name=\"Monkey sort\",\n",
    ")\n",
    "\n",
    "fig.update_layout(\n",
    "    title=\"Зависимость времени работы алгоритма Monkey sort от размера сортируемого списка\",\n",
    "    xaxis_title=\"Количество чисел для вычисления (n)\",\n",
    "    yaxis_title=\"Время вычисления n чисел\",\n",
    ")\n",
    "\n",
    "fig.write_html('monkey_sort.html')"
   ]
  },
  {
   "cell_type": "code",
   "execution_count": null,
   "id": "spread-precipitation",
   "metadata": {},
   "outputs": [],
   "source": [
    "Спасибо за внимание! \t(◕‿◕)♡"
   ]
  }
 ],
 "metadata": {
  "kernelspec": {
   "display_name": "Python 3",
   "language": "python",
   "name": "python3"
  },
  "language_info": {
   "codemirror_mode": {
    "name": "ipython",
    "version": 3
   },
   "file_extension": ".py",
   "mimetype": "text/x-python",
   "name": "python",
   "nbconvert_exporter": "python",
   "pygments_lexer": "ipython3",
   "version": "3.8.5"
  }
 },
 "nbformat": 4,
 "nbformat_minor": 5
}
